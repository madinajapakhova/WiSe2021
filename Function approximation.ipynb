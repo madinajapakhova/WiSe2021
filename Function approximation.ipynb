{
 "cells": [
  {
   "cell_type": "markdown",
   "metadata": {
    "toc": true
   },
   "source": [
    "<h1>Table of Contents<span class=\"tocSkip\"></span></h1>\n",
    "<div class=\"toc\"><ul class=\"toc-item\"><li><span><a href=\"#Function-Approximation\" data-toc-modified-id=\"Function-Approximation-1\"><span class=\"toc-item-num\">1&nbsp;&nbsp;</span>Function Approximation</a></span><ul class=\"toc-item\"><li><span><a href=\"#Interpolation-principles\" data-toc-modified-id=\"Interpolation-principles-1.1\"><span class=\"toc-item-num\">1.1&nbsp;&nbsp;</span>Interpolation principles</a></span></li><li><span><a href=\"#Polynomial-interpolation\" data-toc-modified-id=\"Polynomial-interpolation-1.2\"><span class=\"toc-item-num\">1.2&nbsp;&nbsp;</span>Polynomial interpolation</a></span></li></ul></li></ul></div>"
   ]
  },
  {
   "cell_type": "markdown",
   "metadata": {},
   "source": [
    "# Function Approximation    \n",
    "\n",
    "## Interpolation principles \n",
    "\n",
    " **Developing an interpolation scheme**  \n",
    " \n",
    " Interpolation refers to a situation when we know the values of $\\mathcal{f}$ at some discrete points in its domain and from this we are trying to infer how $\\mathcal{f}$ looks at points between the points where $\\mathcal{f}$ is known. In *Function approximation* problems interpolation is used to choose an approximant $\\hat{f}$ that matches $\\mathcal{f}$ at the known evaluation points. \n",
    "\n",
    "**Step 1**: let $\\hat{f}$ be an approximating function for true $\\mathcal{f}$. Choose a family of approximating functions for $\\hat{f}$. The chapter considers $\\hat{f}$ that can be written as a linear combination of *n* independent *basis functions $\\phi_1$, $\\phi_2$, ... $\\phi_n$*   \n",
    "$$\\hat{f}(x)  = \\sum_{j=1}^n \\phi_j(x)c_j = \\phi(x)c$$    \n",
    "\n",
    "Goal: estimate the \"weights\", i.e. coefficient vector $\\mathcal{c}$, for the approximation to work.   \n",
    "\n",
    "What does $\\mathcal{n}$ mean? $\\mathcal{n}$ refers to the ***interpolation order*** . For example, $p(x) = x^0$ is interpolation of order 1, $p(x) = x^0 + x$ is interpolation of order 2. Generally, $n^{th}$-degree interpolation looks like this: $p(x) = c_1x^0 + c_2x + c_3x^2 + ... +c_nx^(n-1)$. \n",
    "\n",
    "**Step 2**: specify what properties we want $\\hat{f}$ to replicate from $\\mathcal{f}$.       \n",
    "\n",
    " - for example, we may want $\\hat{f}$ to match the values of $\\mathcal{f}$ at selected ***interpolation nodes*** $\\mathcal{x}_1$, $\\mathcal{x}_2$, ..., $\\mathcal{x}_n$.   \n",
    " \n",
    " The estimation of coefficients reduces to solving a system of linear equations:   \n",
    " \n",
    " $$\\sum_{j=1}^n \\phi_j(x)c_j =  \\mathcal{f}(x_i) = \\mathcal{y}_i$$    \n",
    " \n",
    " or,    \n",
    " \n",
    " $$\\Phi c = y $$   "
   ]
  },
  {
   "cell_type": "code",
   "execution_count": 3,
   "metadata": {},
   "outputs": [],
   "source": [
    "import sympy as sym  "
   ]
  },
  {
   "cell_type": "code",
   "execution_count": 70,
   "metadata": {},
   "outputs": [],
   "source": [
    "def interpolation(f, psi, nodes):\n",
    "    \n",
    "    \"\"\"we interpolate true f at selected nodes with a polynomial that can be represented\n",
    "    as a linear combinations of psi-s\"\"\" \n",
    "    \n",
    "    N = len(psi) - 1 # degree of the polynomial\n",
    "    PSI = sym.zeros(N+1, N+1) # square matrix, \n",
    "    \"\"\"matrix size corresponds to the interpolation order - number of interpoltion nodes\"\"\"\n",
    "    b = sym.zeros(N+1, 1) # original function f \n",
    "    psi_sym = psi  # save symbolic expression\n",
    "    # Turn psi and f into Python functions\n",
    "    x = sym.Symbol('x')\n",
    "    psi = [sym.lambdify([x], psi[i]) for i in range(N+1)] # evaluating the psi-a at the nodes\n",
    "    f = sym.lambdify([x], f)\n",
    "    for i in range(N+1):\n",
    "        for j in range(N+1):\n",
    "            PSI[i,j] = psi[j](nodes[i])\n",
    "        b[i,0] = f(nodes[i])\n",
    "    c = PSI.LUsolve(b)\n",
    "    # c is a sympy Matrix object, turn to list\n",
    "    c = [sym.simplify(c[i,0]) for i in range(c.shape[0])]\n",
    "    u = [sym.simplify(sum(a*b for a, b in zip(c, psi_sym)))]\n",
    "    return u,c "
   ]
  },
  {
   "cell_type": "markdown",
   "metadata": {},
   "source": [
    "Now we can use the interpolation function to approximate a parabola $f(x) = 10(x-1)^2 -1$ by a linear function on interval $[1,2]$ using two interpolation nodes: "
   ]
  },
  {
   "cell_type": "code",
   "execution_count": 71,
   "metadata": {},
   "outputs": [],
   "source": [
    "x = sym.Symbol('x')\n",
    "f = 10*(x-1)**2 - 1\n",
    "psi = [1, x]\n",
    "Omega = [1, 2]\n",
    "points = [1 + sym.Rational(1,3), 1 + sym.Rational(2,3)]\n",
    "u,c = interpolation(f, psi, points)   "
   ]
  },
  {
   "cell_type": "code",
   "execution_count": 72,
   "metadata": {},
   "outputs": [
    {
     "data": {
      "text/plain": [
       "[-119/9, 10]"
      ]
     },
     "execution_count": 72,
     "metadata": {},
     "output_type": "execute_result"
    }
   ],
   "source": [
    "c"
   ]
  },
  {
   "cell_type": "code",
   "execution_count": 73,
   "metadata": {},
   "outputs": [
    {
     "data": {
      "text/plain": [
       "[10*x - 119/9]"
      ]
     },
     "execution_count": 73,
     "metadata": {},
     "output_type": "execute_result"
    }
   ],
   "source": [
    "u"
   ]
  },
  {
   "cell_type": "code",
   "execution_count": 74,
   "metadata": {},
   "outputs": [
    {
     "data": {
      "text/plain": [
       "sympy.core.add.Add"
      ]
     },
     "execution_count": 74,
     "metadata": {},
     "output_type": "execute_result"
    }
   ],
   "source": [
    "type(f)"
   ]
  },
  {
   "cell_type": "markdown",
   "metadata": {},
   "source": [
    " **A few words about matrix $\\Phi$**   \n",
    " $\\Phi$ has to be non-singular for the interpolation scheme to be well-defined   \n",
    " $\\phi_ij$ = $\\phi_j(x_i)$   is a typical element of $\\Phi$. $\\Phi$ is a square matrix whose elements are values of each basis function evaluated at each node.    \n",
    " \n",
    " \n",
    " \n",
    " - depending on the context of the problem in question, we may want the first derivates of $\\hat{f}$ to match the first derivates of  $\\mathcal{f}$ at selected interpolation nodes $\\mathcal{x}_1^\\prime$, $\\mathcal{x}_2^\\prime$, ..., $\\mathcal{x}_n^\\prime$    \n",
    " \n",
    " $$\\sum_{j=1}^n \\phi_j^\\prime(x^\\prime) c_j =  \\mathcal{f}^\\prime(x_i)^\\prime $$     \n",
    " \n",
    " >While developing interpolation scheme we should choose good interpolation nodes and basis functions. What does this imply?   \n",
    "      First, the approximant should be able to produce an accurate approximation of the original function $\\mathcal{f}$. At least in theory, an arbitrarily accurate approximation should be attainable by increasing the degree ($\\mathcal{n}$) of approximation.   \n",
    "      Second, it should be possible to compute the basis coeffcients quickly and accurately $\\rightarrow$ the interpolation equation should be well-conditioned and should be easy to solve $\\rightarrow$ diagonal, near diagonal, or orthogonal interpolation matrices ($\\Phi$) are best.      \n",
    "      Third, the approximant should be easy to work with: the basis functions should be easy and relatively costless to evaluate, differentiate, and integrate.   \n",
    "      \n",
    "Interpolation is a collection of methods to approximate a function. We distinguish between the ***spectral*** methods and ***finite element methods***. ***Spectral*** interpolation schemes use basis functions that are nonzero over the entire domain of $\\mathcal{f}$, e.g. polynomial interpolation. ***Finite element methods*** use basis functions that are nonzero only over a subinterval of the domain of  $\\mathcal{f}$, e.g. splines. "
   ]
  },
  {
   "cell_type": "markdown",
   "metadata": {},
   "source": [
    "## Polynomial interpolation      \n",
    "\n",
    "According to the Weierstrass Theorem, any continuous real-valued function f defined on a bounded interval [a,b] of the real line can be approximated to any degree of accuracy using a polynomial. The Theorem only confirms the existence of a polynomial to approximate $\\mathcal{f}$ up to any degree of accuracy, but gives no guidance on how the approximation is constructed. Developing a polynomial interpolation scheme, however, entails two main questions: choice of the ***basis functions*** and choice of the ***interpolation nodes***    \n",
    "\n",
    "Intuitively, we would chose ***monomial basis polynomial***     \n",
    "$$p(x) = c_1x^0 + c_2 x + c_3x^2 + ... +c_n x^{n-1}$$   \n",
    "that interpolates $\\mathcal{f}$ at *n* evenly spaced (uniformly distributed) ***interpolation nodes***    \n",
    "    $$x_i = a + \\frac{i-1}{n-1}(b-a)   \\forall i = 1,2,...,n $$"
   ]
  },
  {
   "cell_type": "code",
   "execution_count": 13,
   "metadata": {},
   "outputs": [],
   "source": [
    "import numpy as np"
   ]
  },
  {
   "cell_type": "code",
   "execution_count": 15,
   "metadata": {},
   "outputs": [],
   "source": [
    "x = sym.Symbol('x')\n",
    "f = 10*(x-1)**4 - 1\n",
    "psi = [1, x]\n",
    "Omega = [0,1]\n",
    "points = np.linspace(0,1,2)\n",
    "c = interpolation(f, psi, points)  "
   ]
  },
  {
   "cell_type": "code",
   "execution_count": 16,
   "metadata": {},
   "outputs": [
    {
     "data": {
      "text/latex": [
       "$\\displaystyle \\left[\\begin{matrix}9.0\\\\-10.0\\end{matrix}\\right]$"
      ],
      "text/plain": [
       "Matrix([\n",
       "[  9.0],\n",
       "[-10.0]])"
      ]
     },
     "execution_count": 16,
     "metadata": {},
     "output_type": "execute_result"
    }
   ],
   "source": [
    "c"
   ]
  },
  {
   "cell_type": "markdown",
   "metadata": {},
   "source": [
    "Problem: we don't ncrease approximation precision by increasing the order of interpolation.    \n",
    "Solution: use ***Chebyshev basis functions*** and ***Chebyshev interpolation nodes*** instead. "
   ]
  }
 ],
 "metadata": {
  "kernelspec": {
   "display_name": "Python 3",
   "language": "python",
   "name": "python3"
  },
  "language_info": {
   "codemirror_mode": {
    "name": "ipython",
    "version": 3
   },
   "file_extension": ".py",
   "mimetype": "text/x-python",
   "name": "python",
   "nbconvert_exporter": "python",
   "pygments_lexer": "ipython3",
   "version": "3.7.6"
  },
  "toc": {
   "base_numbering": 1,
   "nav_menu": {},
   "number_sections": true,
   "sideBar": true,
   "skip_h1_title": false,
   "title_cell": "Table of Contents",
   "title_sidebar": "Contents",
   "toc_cell": true,
   "toc_position": {},
   "toc_section_display": true,
   "toc_window_display": false
  }
 },
 "nbformat": 4,
 "nbformat_minor": 4
}
